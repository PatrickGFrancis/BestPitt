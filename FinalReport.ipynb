{
 "cells": [
  {
   "cell_type": "markdown",
   "id": "1f3ddc4a-59c9-4936-8c7d-cd5c65269248",
   "metadata": {},
   "source": [
    "Best Pittsburgh Neighborhood Final Report by Patrick Francis and Alex Woo"
   ]
  },
  {
   "cell_type": "markdown",
   "id": "70caddd5-77ac-43df-a38b-eb770c27359d",
   "metadata": {},
   "source": [
    "# Introduction\r\n",
    "\r\n",
    "The **BestPitt Project** aims to analyze the air quality and arrest data across various neighborhoods in Pittsburgh. By identifying the safest and healthiest areas, this project provides valuable insights for residents and policymakers, fostering community well-being and informed decision-making.\r\n"
   ]
  },
  {
   "cell_type": "markdown",
   "id": "2ba4311a-aa3f-4d37-9a1a-412a99e5618b",
   "metadata": {},
   "source": [
    "# Our Metrics and Sources\r\n",
    "\r\n",
    "## Air Quality Data\r\n",
    "Contains air quality measurements across different sites in Allegheny County, sourced from [WPRDC](https://www.wprdc.org).\r\n",
    "\r\n",
    "## Population Data\r\n",
    "Contains population information for different neighborhoods, sourced locally.\r\n",
    "\r\n",
    "## Arrest Data\r\n",
    "Contains arrest records for various neighborhoods. [Insert link or description]\r\n"
   ]
  },
  {
   "cell_type": "markdown",
   "id": "30b8e381-c7fa-49e4-a602-da4b70393fd3",
   "metadata": {},
   "source": [
    "# Our Metrics and Sources\r\n",
    "\r\n",
    "## Air Quality Data\r\n",
    "Contains air quality measurements across different sites in Allegheny County, sourced from [WPRDC](https://www.wprdc.org).\r\n",
    "\r\n",
    "## Population Data\r\n",
    "Contains population information for different neighborhoods, sourced locally.\r\n",
    "\r\n",
    "## Arrest Data\r\n",
    "Contains arrest records for various neighborhoods. [Insert link or description]\r\n"
   ]
  },
  {
   "cell_type": "markdown",
   "id": "9022404e-24e0-4254-8eff-51278117b0f7",
   "metadata": {},
   "source": [
    "Data Cleaning and Preprocessing\n",
    "Initial Data Inspection: Displayed the first few rows of the datasets and relevant statistics to understand the structure and content.\n",
    "\n",
    "Cleaning Process: Dropped rows with missing values in key columns, converted data types as necessary, and merged datasets on common keys (neighborhood/site)."
   ]
  },
  {
   "cell_type": "markdown",
   "id": "c9aecb1e-8f6a-4388-a950-ea556ae0e904",
   "metadata": {},
   "source": [
    "# Data Analysis and Visualization\r\n",
    "\r\n",
    "## Air Quality Analysis\r\n",
    "Calculated average air quality measurements per site. Identified the top 10 neighborhoods with the best air quality using various parameters like PM2.5, NO2, and O3.\r\n",
    "\r\n",
    "## Visualization\r\n",
    "Created bar plots to visualize the top 10 neighborhoods with the best air quality scores.\r\n"
   ]
  },
  {
   "cell_type": "markdown",
   "id": "568a0896-e83e-4c9e-9d9c-e7017ca0a55a",
   "metadata": {},
   "source": [
    "# Insights and Interpretations\r\n",
    "\r\n",
    "## Key Findings\r\n",
    "Flag Plaza, Lawrenceville, and West Mifflin were among the neighborhoods with the best air quality based on the parameters analyzed.\r\n",
    "\r\n",
    "## Interpretations\r\n",
    "These neighborhoods consistently showed lower levels of pollutants, indicating better overall air quality.\r\n"
   ]
  },
  {
   "cell_type": "markdown",
   "id": "ef407674-cd0f-4228-b487-2206923b8e76",
   "metadata": {},
   "source": [
    "# Neighborhood Analysis: Combined Score Calculation\r\n",
    "\r\n",
    "## Data Collection\r\n",
    "We gathered air quality, arrests, and population data for Pittsburgh neighborhoods.\r\n",
    "\r\n",
    "## Data Cleaning and Standardization\r\n",
    "- **Missing Values:** Removed rows with missing critical information.\r\n",
    "- **Standardized Names:** Unified neighborhood names for consistency.\r\n",
    "\r\n",
    "## Calculations\r\n",
    "- **Arrests Per Capita:** Number of arrests per 1,000 residents.\r\n",
    "- **Air Quality Score:** Averaged air quality metrics.\r\n",
    "- **Population Growth:** Growth from 2010 to 2020.\r\n",
    "\r\n",
    "## Normalization\r\n",
    "Scaled each metric to a common range (0 to 1) for fair comparison.\r\n",
    "\r\n",
    "## Combined Score\r\n",
    "**Weights:**\r\n",
    "- Arrests Per Capita: 50 points\r\n",
    "- Air Quality: 25 points\r\n",
    "- Population Growth: 25 points\r\n",
    "\r\n",
    "**Outcome:** Chateau had the highest combined score, indicating strong performance across all metrics.\r\n"
   ]
  },
  {
   "cell_type": "code",
   "execution_count": null,
   "id": "aff6685a-8934-46a7-893a-7dd5f8b70baa",
   "metadata": {},
   "outputs": [],
   "source": []
  }
 ],
 "metadata": {
  "kernelspec": {
   "display_name": "Python 3 (ipykernel)",
   "language": "python",
   "name": "python3"
  },
  "language_info": {
   "codemirror_mode": {
    "name": "ipython",
    "version": 3
   },
   "file_extension": ".py",
   "mimetype": "text/x-python",
   "name": "python",
   "nbconvert_exporter": "python",
   "pygments_lexer": "ipython3",
   "version": "3.12.4"
  }
 },
 "nbformat": 4,
 "nbformat_minor": 5
}
